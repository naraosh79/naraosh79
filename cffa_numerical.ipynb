{
  "nbformat": 4,
  "nbformat_minor": 0,
  "metadata": {
    "colab": {
      "name": "cffa numerical.ipynb",
      "provenance": [],
      "collapsed_sections": [],
      "include_colab_link": true
    },
    "kernelspec": {
      "name": "python3",
      "display_name": "Python 3"
    }
  },
  "cells": [
    {
      "cell_type": "markdown",
      "metadata": {
        "id": "view-in-github",
        "colab_type": "text"
      },
      "source": [
        "<a href=\"https://colab.research.google.com/github/naraosh79/naraosh79/blob/main/cffa_numerical.ipynb\" target=\"_parent\"><img src=\"https://colab.research.google.com/assets/colab-badge.svg\" alt=\"Open In Colab\"/></a>"
      ]
    },
    {
      "cell_type": "code",
      "metadata": {
        "id": "myBC9FgXwSOn",
        "colab": {
          "base_uri": "https://localhost:8080/"
        },
        "outputId": "9c7c8b38-a020-4c95-f71c-ed02dac5492c"
      },
      "source": [
        "import pandas as pd\n",
        "from sklearn import linear_model\n",
        "import numpy as np\n",
        "import statsmodels.api as sm\n",
        "\n",
        "dataset = {'A': [0.03, 0.02], 'B': [0.02, 0.06], 'C': [0.02, 0.05]}\n",
        "df = pd.DataFrame(dataset)\n",
        "X = df[['A','B']]\n",
        "y = df['C']\n",
        "regr = linear_model.LinearRegression(fit_intercept=False)\n",
        "regr.fit(X, y)\n",
        "\n",
        "print('Intercept: \\n', regr.intercept_)\n",
        "print('Coefficients: \\n', regr.coef_)\n",
        "C0 = np.sum(regr.coef_*np.array([2,3]))\n",
        "print(C0)\n",
        "\n",
        "temp = pd.DataFrame(df.iloc[0,]*df.iloc[1,])\n",
        "#df.iloc[2] = temp\n",
        "#print(df)\n",
        "df2 = pd.concat([df,temp.T])\n",
        "print(df2)\n",
        "\n",
        "X = df2[['A','B']]\n",
        "y = df2['C']\n",
        "regr = linear_model.LinearRegression(fit_intercept=True)\n",
        "regr.fit(X, y)\n",
        "\n",
        "print('Intercept: \\n', regr.intercept_)\n",
        "print('Coefficients: \\n', regr.coef_)\n"
      ],
      "execution_count": null,
      "outputs": [
        {
          "output_type": "stream",
          "name": "stderr",
          "text": [
            "/usr/local/lib/python3.7/dist-packages/statsmodels/tools/_testing.py:19: FutureWarning: pandas.util.testing is deprecated. Use the functions in the public API at pandas.testing instead.\n",
            "  import pandas.util.testing as tm\n"
          ]
        },
        {
          "output_type": "stream",
          "name": "stdout",
          "text": [
            "Intercept: \n",
            " 0.0\n",
            "Coefficients: \n",
            " [0.14285714 0.78571429]\n",
            "2.6428571428571432\n",
            "        A       B      C\n",
            "0  0.0300  0.0200  0.020\n",
            "1  0.0200  0.0600  0.050\n",
            "0  0.0006  0.0012  0.001\n",
            "Intercept: \n",
            " -2.9325513196485492e-05\n",
            "Coefficients: \n",
            " [0.14369501 0.78592375]\n"
          ]
        }
      ]
    },
    {
      "cell_type": "code",
      "metadata": {
        "colab": {
          "base_uri": "https://localhost:8080/"
        },
        "id": "36WaIflTjW79",
        "outputId": "35cff4aa-437c-4907-8098-ae08b0174d2d"
      },
      "source": [
        "dataset = {'A': [0.03, 0.02], 'B': [0.02, 0.06], 'C': [0, 0.05]}\n",
        "df = pd.DataFrame(dataset)\n",
        "X = df[['A','B']]\n",
        "y = df['C']\n",
        "regr = linear_model.LinearRegression(fit_intercept=False)\n",
        "regr.fit(X, y)\n",
        "\n",
        "print('Intercept: \\n', regr.intercept_)\n",
        "print('Coefficients: \\n', regr.coef_)\n",
        "C1 = np.sum(regr.coef_*np.array([2,3]))\n",
        "print(C1)\n",
        "print(C0-C1)"
      ],
      "execution_count": null,
      "outputs": [
        {
          "output_type": "stream",
          "name": "stdout",
          "text": [
            "Intercept: \n",
            " 0.0\n",
            "Coefficients: \n",
            " [-0.71428571  1.07142857]\n",
            "1.7857142857142863\n",
            "0.857142857142857\n"
          ]
        }
      ]
    },
    {
      "cell_type": "code",
      "metadata": {
        "colab": {
          "base_uri": "https://localhost:8080/"
        },
        "id": "yTLOguJe1FDr",
        "outputId": "5516db4d-9714-41e1-ea34-a7240a0817b3"
      },
      "source": [
        "(np.random.rand(2,5)*10)"
      ],
      "execution_count": null,
      "outputs": [
        {
          "output_type": "execute_result",
          "data": {
            "text/plain": [
              "array([[0.96816013, 7.85760904, 9.35041904, 5.66636676, 2.91869452],\n",
              "       [2.83216377, 1.94131071, 3.85755004, 9.67331132, 1.29858032]])"
            ]
          },
          "metadata": {},
          "execution_count": 3
        }
      ]
    },
    {
      "cell_type": "code",
      "metadata": {
        "colab": {
          "base_uri": "https://localhost:8080/"
        },
        "id": "sq7BY3Osk0fC",
        "outputId": "512a6a62-13d5-48ea-d540-3c81f01470fd"
      },
      "source": [
        "T, K =  20, 3\n",
        "X = np.random.random((T,K))\n",
        "beta = np.random.random((K,1))\n",
        "e = np.random.random((T,1))\n",
        "y = 0.01 + X @ beta + e\n",
        "X = sm.add_constant(X)\n",
        "model = sm.OLS(y,X)\n",
        "res = model.fit()\n",
        "print(res.summary())"
      ],
      "execution_count": null,
      "outputs": [
        {
          "output_type": "stream",
          "name": "stdout",
          "text": [
            "                            OLS Regression Results                            \n",
            "==============================================================================\n",
            "Dep. Variable:                      y   R-squared:                       0.254\n",
            "Model:                            OLS   Adj. R-squared:                  0.114\n",
            "Method:                 Least Squares   F-statistic:                     1.816\n",
            "Date:                Wed, 22 Sep 2021   Prob (F-statistic):              0.185\n",
            "Time:                        06:00:55   Log-Likelihood:                -4.2317\n",
            "No. Observations:                  20   AIC:                             16.46\n",
            "Df Residuals:                      16   BIC:                             20.45\n",
            "Df Model:                           3                                         \n",
            "Covariance Type:            nonrobust                                         \n",
            "==============================================================================\n",
            "                 coef    std err          t      P>|t|      [0.025      0.975]\n",
            "------------------------------------------------------------------------------\n",
            "const          0.5817      0.312      1.866      0.081      -0.079       1.243\n",
            "x1             0.4599      0.301      1.529      0.146      -0.178       1.097\n",
            "x2             0.3659      0.300      1.219      0.240      -0.270       1.002\n",
            "x3             0.0681      0.284      0.240      0.814      -0.535       0.671\n",
            "==============================================================================\n",
            "Omnibus:                        2.169   Durbin-Watson:                   2.550\n",
            "Prob(Omnibus):                  0.338   Jarque-Bera (JB):                1.582\n",
            "Skew:                           0.503   Prob(JB):                        0.453\n",
            "Kurtosis:                       2.059   Cond. No.                         8.35\n",
            "==============================================================================\n",
            "\n",
            "Warnings:\n",
            "[1] Standard Errors assume that the covariance matrix of the errors is correctly specified.\n"
          ]
        }
      ]
    },
    {
      "cell_type": "code",
      "metadata": {
        "id": "Y0kYlhlImqd5"
      },
      "source": [
        "y = pd.DataFrame(y) \n",
        "X = pd.DataFrame(X[:,1:])\n",
        "data = pd.concat([y,X],axis=1)"
      ],
      "execution_count": null,
      "outputs": []
    },
    {
      "cell_type": "code",
      "metadata": {
        "colab": {
          "base_uri": "https://localhost:8080/"
        },
        "id": "oVBWIwxltVrL",
        "outputId": "8b2e2fd1-b0be-483b-8f6c-606cde9acf29"
      },
      "source": [
        "df = pd.read_html(res.summary().tables[1].as_html(),header=0,index_col=0)[0]\n",
        "df['coef'].sum()"
      ],
      "execution_count": null,
      "outputs": [
        {
          "output_type": "execute_result",
          "data": {
            "text/plain": [
              "1.4755999999999998"
            ]
          },
          "metadata": {},
          "execution_count": 6
        }
      ]
    },
    {
      "cell_type": "code",
      "metadata": {
        "id": "V_qyrtblvZ2m",
        "colab": {
          "base_uri": "https://localhost:8080/"
        },
        "outputId": "0e560b91-af77-4d59-e6b7-02c59d655918"
      },
      "source": [
        "print(res.summary2())"
      ],
      "execution_count": null,
      "outputs": [
        {
          "output_type": "stream",
          "name": "stdout",
          "text": [
            "                Results: Ordinary least squares\n",
            "================================================================\n",
            "Model:              OLS              Adj. R-squared:     0.114  \n",
            "Dependent Variable: y                AIC:                16.4633\n",
            "Date:               2021-09-22 06:00 BIC:                20.4463\n",
            "No. Observations:   20               Log-Likelihood:     -4.2317\n",
            "Df Model:           3                F-statistic:        1.816  \n",
            "Df Residuals:       16               Prob (F-statistic): 0.185  \n",
            "R-squared:          0.254            Scale:              0.11174\n",
            "------------------------------------------------------------------\n",
            "            Coef.    Std.Err.     t      P>|t|     [0.025   0.975]\n",
            "------------------------------------------------------------------\n",
            "const       0.5817     0.3118   1.8655   0.0806   -0.0793   1.2427\n",
            "x1          0.4599     0.3007   1.5295   0.1457   -0.1775   1.0973\n",
            "x2          0.3659     0.3000   1.2194   0.2404   -0.2702   1.0019\n",
            "x3          0.0681     0.2843   0.2396   0.8136   -0.5346   0.6709\n",
            "----------------------------------------------------------------\n",
            "Omnibus:               2.169       Durbin-Watson:          2.550\n",
            "Prob(Omnibus):         0.338       Jarque-Bera (JB):       1.582\n",
            "Skew:                  0.503       Prob(JB):               0.453\n",
            "Kurtosis:              2.059       Condition No.:          8    \n",
            "================================================================\n",
            "\n"
          ]
        }
      ]
    },
    {
      "cell_type": "code",
      "metadata": {
        "colab": {
          "base_uri": "https://localhost:8080/"
        },
        "id": "MkcHTkfiF_SF",
        "outputId": "c234cd39-5bce-4df6-b5b3-eb79f02eb942"
      },
      "source": [
        "# 20210923 Comprehensive exam question 1. \n",
        "dataset = {'A': [0.02, 0.01], 'B': [0.02, 0.06], 'C': [0.02, 0.05]}\n",
        "df = pd.DataFrame(dataset)\n",
        "df.index = ['ESG','non_ESG']\n",
        "print(df)"
      ],
      "execution_count": null,
      "outputs": [
        {
          "output_type": "stream",
          "name": "stdout",
          "text": [
            "            A     B     C\n",
            "ESG      0.02  0.02  0.02\n",
            "non_ESG  0.01  0.06  0.05\n"
          ]
        }
      ]
    },
    {
      "cell_type": "code",
      "metadata": {
        "colab": {
          "base_uri": "https://localhost:8080/"
        },
        "id": "JKpWjCVUGsgg",
        "outputId": "ad0e8963-cb41-4090-9e1b-76c1b7a3c6df"
      },
      "source": [
        "X = df[['A','B']]\n",
        "y = df['C']\n",
        "X_inv = np.linalg.inv(X)\n",
        "b = X_inv @ y\n",
        "print('b',b)\n",
        "ps = np.array([2,5]).T\n",
        "ps_1 = b @ ps\n",
        "print('ps_1',ps_1)\n",
        "y2 = y*np.array([0,1])\n",
        "b2 = X_inv @ y2\n",
        "print('b2',b2)\n",
        "ps_2 = b2 @ ps\n",
        "print('ps_2',ps_2)\n",
        "p_esg = ps_1/(ps_1-ps_2)"
      ],
      "execution_count": null,
      "outputs": [
        {
          "output_type": "stream",
          "name": "stdout",
          "text": [
            "b [0.2 0.8]\n",
            "ps_1 4.4\n",
            "b2 [-1.  1.]\n",
            "ps_2 3.0\n"
          ]
        },
        {
          "output_type": "execute_result",
          "data": {
            "text/plain": [
              "3.1428571428571423"
            ]
          },
          "metadata": {},
          "execution_count": 30
        }
      ]
    },
    {
      "cell_type": "markdown",
      "metadata": {
        "id": "EtlJkSedKA4P"
      },
      "source": [
        "$P/ESG = (P/S)/(ESG/S) = (P/S)/(P/S - P_{woESG}/S) $"
      ]
    }
  ]
}